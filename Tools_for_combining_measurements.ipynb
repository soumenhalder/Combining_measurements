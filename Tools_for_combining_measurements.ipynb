{
 "cells": [
  {
   "cell_type": "markdown",
   "metadata": {
    "deletable": false,
    "editable": false
   },
   "source": [
    "**Ref.**\n",
    "* Statistical Methods for Data Analysis in Particle Physics (Luca Lista) - Chapter 6\n",
    "* Lyons, L., Gibaut, D., Clifford, P.: How to combine correlated estimates of a single physical quantity. Nucl. Inst. Methods A270, 110–117 (1988)\n",
    "* A. Valassi, Combining correlated measurements of several different physical quantities. Nucl. Instr. Meth. A 500, 391 (2003) "
   ]
  },
  {
   "cell_type": "markdown",
   "metadata": {
    "deletable": false,
    "editable": false
   },
   "source": [
    "# The inputs\n",
    "\n",
    "Suppose we have,\n",
    "* $n$ experimental results, denoted as $y_{i}$ = {$y_{1}$, $y_{2}$, $y_{3}$ ...  $y_{n}$}\n",
    "* Covariance matrix of the measurements $M_{ij} =$ cov($y_{i}$,$y_{j}$) is a $n\\times n$ matrix\n",
    "* $N$ observables, $X_{\\alpha}$ = {$X_{1}$,$X_{2}$, $X_{3}$ ... $X_{N}$}\n",
    "\n",
    "So it's obvious $n = \\sum^{N}_{\\alpha=1} n_{\\alpha} \\geq N$\n",
    "\n",
    "* The link between measurement $y_{i}$ and the observables $X_{\\alpha}$ is denoted by a $n \\times N$ matrix,\n",
    "\n",
    "$ \n",
    "  U_{i \\alpha} = \n",
    "\\begin{cases}\n",
    "    1, & \\text{if } y_{i} \\text{ is a measurement of} X_{\\alpha}\\\\\n",
    "    0, & \\text{if } y_{i} \\text{ is a not measurement of} X_{\\alpha}\n",
    "\\end{cases}\n",
    " $\n",
    " \n",
    "# The desired outputs\n",
    "\n",
    "* **Observable Estimation:** $\\hat{x}_{\\alpha}  = \\lambda_{\\alpha i} y_{i}$ as estimation of the observable $X_{\\alpha}$\n",
    "* **Covariance matrix of measured observables:**  as cov($\\hat{x}_{\\alpha}$,$\\hat{x}_{\\beta}$) = $\\lambda_{\\alpha i} M_{ij} \\lambda_{\\beta j} $ = $(\\lambda M \\lambda^{T})_{\\alpha \\beta}$ \n",
    "\n",
    "------------ -----------\n",
    "* The ref. says $\\lambda= (U^{T} M^{-1} U)^{-1} (U^{T} M^{-1})$ , or in index notation $\\lambda_{\\alpha i} =           \\sum^{N}_{\\beta = 1} (U^{T} M^{-1} U)_{\\alpha \\beta}^{-1} (U^{T} M^{-1})_{\\beta i}$.\n",
    "\n",
    "* Puting that in covariance matrix expression we get, \n",
    "  cov($\\hat{x}_{\\alpha}$,$\\hat{x}_{\\beta}$)= $(U^{T} M^{-1} U)_{\\alpha \\beta}^{-1}$\n",
    "\n",
    "-------------------------\n",
    "\n",
    "* **Decomposition of covariance matrix to statistical and systematics:** Suppose the covariance of measurements can be written as sum of statistical and systematic uncertainty like $M_{ij} = M^{\\text{stat}}_{ij} + M^{\\text{sys}}_{ij}$. The covariance matrix of observables can also be decomposed as, \n",
    "\n",
    "\n",
    "$$\\text{ cov}(\\hat{x}_{\\alpha},\\hat{x}_{\\beta}) = (\\lambda M^{\\text{stat} }   \\lambda^{T})_{\\alpha \\beta} +  (\\lambda M^{\\text{sys} }   \\lambda^{T})_{\\alpha \\beta}$$ "
   ]
  },
  {
   "cell_type": "markdown",
   "metadata": {
    "deletable": false,
    "editable": false
   },
   "source": [
    "# Implementation in python script"
   ]
  },
  {
   "cell_type": "code",
   "execution_count": 30,
   "metadata": {
    "ExecuteTime": {
     "end_time": "2021-09-27T09:46:15.492016Z",
     "start_time": "2021-09-27T09:46:15.450556Z"
    },
    "deletable": false,
    "editable": false
   },
   "outputs": [],
   "source": [
    "import numpy as np\n",
    "from scipy import stats\n",
    "from sympy import Matrix\n",
    "def combine_measurement(y, U, M, stat=None, sys=None):\n",
    "    \"\"\"\n",
    "    Combine measurements and give estimated linear observables with covariance matrix\n",
    "    @param list Measurements  \n",
    "    @param np.array The link between measurement and observables\n",
    "    @param np.array Covariance matric\n",
    "    @param np.array (optional) Statistical component of Covariance matrix \n",
    "    @param np.array (optional) Systematics component of Covariance matrix \n",
    "    return: \n",
    "    \"\"\" \n",
    "    \n",
    "    n = U.shape[0]                # to find the number of measurement\n",
    "    if len(U.shape) > 1:\n",
    "        N = U.shape[1]\n",
    "    else:\n",
    "        N = 1\n",
    "    Minv = np.linalg.inv(M)       # M^-1\n",
    "    uT_Minv = np.dot(U.T,Minv)    # UT.M^-1\n",
    "    uT_Minv_u = np.dot(uT_Minv,U) #UT.M^-1.U\n",
    "\n",
    "    if len(uT_Minv_u.shape) > 0:\n",
    "        lambd =  np.dot(np.linalg.inv(uT_Minv_u),uT_Minv) # weight factors calculate\n",
    "        cov = np.linalg.inv(uT_Minv_u)   \n",
    "    else:\n",
    "        lambd =  np.multiply(uT_Minv,1/uT_Minv_u)\n",
    "        cov = 1/uT_Minv_u\n",
    "    print('The weights:')\n",
    "    display(Matrix(lambd))\n",
    "    x = np.dot(lambd,y)                               # Measure observables \n",
    "                                                      # corrlation matrix\n",
    "    \n",
    "    if len(x.shape) == 0:        \n",
    "        print('Measurement:%s+/-%s'%(x,np.sqrt(cov)))\n",
    "    else:       \n",
    "        print('Measurement: X = ')\n",
    "        display(Matrix(x))\n",
    "        print('\\n Covariance matrix: E = ')\n",
    "        display(Matrix(cov))   \n",
    "        print('\\n sqrt(Covariance matrix): sqrt{E}')\n",
    "        display(Matrix(np.sqrt(cov)))\n",
    "        print('\\n\\n')\n",
    "    \n",
    "    # If we need statistical and systematics component individually\n",
    "    if stat is not None or sys is not None:\n",
    "        stat_cov = np.dot(np.dot(lambd,stat),lambd.T)\n",
    "        sys_cov = np.dot(np.dot(lambd,sys),lambd.T)\n",
    "        \n",
    "        if len(x.shape) == 0:\n",
    "            print('Measurement:%s+/-%s +/-%s'%(x,np.sqrt(stat_cov),np.sqrt(sys_cov)))\n",
    "        else:\n",
    "            print('\\n Estat =  ')\n",
    "            display(Matrix(stat_cov))   \n",
    "            print('\\n sqrt(Estat) = ')\n",
    "            display(Matrix(np.sqrt(stat_cov)))\n",
    "            print('\\n\\n')\n",
    "        \n",
    "        \n",
    "\n",
    "            print('\\n Esys =  ')\n",
    "            display(Matrix(sys_cov))   \n",
    "            print('\\n sqrt(Esys) = ')\n",
    "            display(Matrix(np.sqrt(sys_cov)))\n",
    "            print('\\n\\n')\n",
    "            \n",
    "    yprime = np.subtract(y,np.dot(U,x))\n",
    "    chi_2 = np.dot(np.dot(yprime.T,Minv),yprime)\n",
    "    p = stats.chi2.pdf(chi_2 , n-N)\n",
    "    print('Minimum chisqauare for the combination is %s (d.o.f = %s)  with p value %s'%(chi_2,n-N, p))"
   ]
  },
  {
   "cell_type": "markdown",
   "metadata": {
    "deletable": false,
    "editable": false
   },
   "source": [
    "```python\n",
    "import numpy as np\n",
    "from scipy import stats\n",
    "from sympy import Matrix\n",
    "def combine_measurement(y, U, M, stat=None, sys=None):\n",
    "    \"\"\"\n",
    "    Combine measurements and give estimated linear observables with covariance matrix\n",
    "    @param list Measurements  \n",
    "    @param np.array The link between measurement and observables\n",
    "    @param np.array Covariance matric\n",
    "    @param np.array (optional) Statistical component of Covariance matrix \n",
    "    @param np.array (optional) Systematics component of Covariance matrix \n",
    "    return: \n",
    "    \"\"\" \n",
    "    \n",
    "    n = U.shape[0]                # to find the number of measurement\n",
    "    if len(U.shape) > 1:\n",
    "        N = U.shape[1]\n",
    "    else:\n",
    "        N = 1\n",
    "    Minv = np.linalg.inv(M)       # M^-1\n",
    "    uT_Minv = np.dot(U.T,Minv)    # UT.M^-1\n",
    "    uT_Minv_u = np.dot(uT_Minv,U) #UT.M^-1.U\n",
    "\n",
    "    if len(uT_Minv_u.shape) > 0:\n",
    "        lambd =  np.dot(np.linalg.inv(uT_Minv_u),uT_Minv) # weight factors calculate\n",
    "        cov = np.linalg.inv(uT_Minv_u)   \n",
    "    else:\n",
    "        lambd =  np.multiply(uT_Minv,1/uT_Minv_u)\n",
    "        cov = 1/uT_Minv_u\n",
    "    print('The weights:')\n",
    "    display(Matrix(lambd))\n",
    "    x = np.dot(lambd,y)                               # Measure observables \n",
    "                                                      # corrlation matrix\n",
    "    \n",
    "    if len(x.shape) == 0:        \n",
    "        print('Measurement:%s+/-%s'%(x,np.sqrt(cov)))\n",
    "    else:       \n",
    "        print('Measurement: X = ')\n",
    "        display(Matrix(x))\n",
    "        print('\\n Covariance matrix: E = ')\n",
    "        display(Matrix(cov))   \n",
    "        print('\\n sqrt(Covariance matrix): sqrt{E}')\n",
    "        display(Matrix(np.sqrt(cov)))\n",
    "        print('\\n\\n')\n",
    "    \n",
    "    # If we need statistical and systematics component individually\n",
    "    if stat is not None or sys is not None:\n",
    "        stat_cov = np.dot(np.dot(lambd,stat),lambd.T)\n",
    "        sys_cov = np.dot(np.dot(lambd,sys),lambd.T)\n",
    "        \n",
    "        if len(x.shape) == 0:\n",
    "            print('Measurement:%s+/-%s +/-%s'%(x,np.sqrt(stat_cov),np.sqrt(sys_cov)))\n",
    "        else:\n",
    "            print('\\n Estat =  ')\n",
    "            display(Matrix(stat_cov))   \n",
    "            print('\\n sqrt(Estat) = ')\n",
    "            display(Matrix(np.sqrt(stat_cov)))\n",
    "            print('\\n\\n')\n",
    "        \n",
    "        \n",
    "\n",
    "            print('\\n Esys =  ')\n",
    "            display(Matrix(sys_cov))   \n",
    "            print('\\n sqrt(Esys) = ')\n",
    "            display(Matrix(np.sqrt(sys_cov)))\n",
    "            print('\\n\\n')\n",
    "            \n",
    "    yprime = np.subtract(y,np.dot(U,x))\n",
    "    chi_2 = np.dot(np.dot(yprime.T,Minv),yprime)\n",
    "    p = stats.chi2.pdf(chi_2 , n-N)\n",
    "    print('Minimum chisqauare for the combination is %s (d.o.f = %s)  with p value %s'%(chi_2,n-N, p))```"
   ]
  },
  {
   "cell_type": "markdown",
   "metadata": {
    "deletable": false,
    "editable": false
   },
   "source": [
    "# Example"
   ]
  },
  {
   "cell_type": "markdown",
   "metadata": {
    "deletable": false,
    "editable": false
   },
   "source": [
    "\n",
    "Measurement of Branching fraction in $e$ and $\\tau$ decay channel in two different experiment.\n",
    "\n",
    "* $\\mathcal{\\hat{B}}^{e}_{A} = (10.50  \\pm 1)\\%$\n",
    "* $\\mathcal{\\hat{B}}^{e}_{B} = (13.50  \\pm 3)\\%$\n",
    "* $\\mathcal{\\hat{B}}^{\\tau}_{A} = (9.50  \\pm 3)\\%$\n",
    "* $\\mathcal{\\hat{B}}^{\\tau}_{B} = (14.00  \\pm 3)\\%$\n",
    "\n",
    "\n",
    "So using the same notation, four meaurements, $B_{i}$ = {$\\mathcal{\\hat{B}}^{e}_{A}$,$\\mathcal{\\hat{B}}^{e}_{B}$, $\\mathcal{\\hat{B}}^{\\tau}_{A}$, $\\mathcal{\\hat{B}}^{\\tau}_{B}$} and define two observables ${B_{\\alpha}} =$ {$B^{e}, B^{\\tau}$}. "
   ]
  },
  {
   "cell_type": "code",
   "execution_count": 31,
   "metadata": {
    "ExecuteTime": {
     "end_time": "2021-09-27T09:46:40.594196Z",
     "start_time": "2021-09-27T09:46:40.577128Z"
    },
    "deletable": false,
    "editable": false
   },
   "outputs": [
    {
     "name": "stdout",
     "output_type": "stream",
     "text": [
      "The link matrix U = \n"
     ]
    },
    {
     "data": {
      "text/latex": [
       "$\\displaystyle \\left[\\begin{matrix}1 & 0\\\\1 & 0\\\\0 & 1\\\\0 & 1\\end{matrix}\\right]$"
      ],
      "text/plain": [
       "Matrix([\n",
       "[1, 0],\n",
       "[1, 0],\n",
       "[0, 1],\n",
       "[0, 1]])"
      ]
     },
     "metadata": {},
     "output_type": "display_data"
    }
   ],
   "source": [
    "U42 = np.array([[1,0],[1,0],[0,1],[0,1]])\n",
    "print('The link matrix U = ')\n",
    "display(Matrix(U42))"
   ]
  },
  {
   "cell_type": "markdown",
   "metadata": {
    "ExecuteTime": {
     "end_time": "2021-09-23T12:45:55.741547Z",
     "start_time": "2021-09-23T12:45:55.737435Z"
    },
    "deletable": false,
    "editable": false
   },
   "source": [
    "## No correlations"
   ]
  },
  {
   "cell_type": "code",
   "execution_count": 32,
   "metadata": {
    "ExecuteTime": {
     "end_time": "2021-09-27T09:46:42.078056Z",
     "start_time": "2021-09-27T09:46:42.054709Z"
    },
    "deletable": false,
    "editable": false
   },
   "outputs": [
    {
     "name": "stdout",
     "output_type": "stream",
     "text": [
      "So the measurement matrix will be: y=\n"
     ]
    },
    {
     "data": {
      "text/latex": [
       "$\\displaystyle \\left[\\begin{matrix}0.105\\\\0.135\\\\0.095\\\\0.14\\end{matrix}\\right]$"
      ],
      "text/plain": [
       "Matrix([\n",
       "[0.105],\n",
       "[0.135],\n",
       "[0.095],\n",
       "[ 0.14]])"
      ]
     },
     "metadata": {},
     "output_type": "display_data"
    },
    {
     "name": "stdout",
     "output_type": "stream",
     "text": [
      "and its covariance matrix will be: M=\n"
     ]
    },
    {
     "data": {
      "text/latex": [
       "$\\displaystyle \\left[\\begin{matrix}0.0001 & 0.0 & 0.0 & 0.0\\\\0.0 & 0.0009 & 0.0 & 0.0\\\\0.0 & 0.0 & 0.0009 & 0.0\\\\0.0 & 0.0 & 0.0 & 0.0009\\end{matrix}\\right]$"
      ],
      "text/plain": [
       "Matrix([\n",
       "[0.0001,    0.0,    0.0,    0.0],\n",
       "[   0.0, 0.0009,    0.0,    0.0],\n",
       "[   0.0,    0.0, 0.0009,    0.0],\n",
       "[   0.0,    0.0,    0.0, 0.0009]])"
      ]
     },
     "metadata": {},
     "output_type": "display_data"
    }
   ],
   "source": [
    "y = 1e-2*np.array([10.50,13.50,9.50,14.00])\n",
    "print('So the measurement matrix will be: y=')\n",
    "display(Matrix(y))\n",
    "\n",
    "M =  1e-4*np.array([[1,0, 0, 0], [0, 9,0,0],[0,0,9,0],[0,0,0,9]])\n",
    "print('and its covariance matrix will be: M=')\n",
    "display(Matrix(M))"
   ]
  },
  {
   "cell_type": "markdown",
   "metadata": {
    "deletable": false,
    "editable": false
   },
   "source": [
    "***\n",
    "\n",
    "* Now lets use the script to get the output executing, \n",
    "\n",
    "`combine_measurement(y, U, M)`"
   ]
  },
  {
   "cell_type": "code",
   "execution_count": null,
   "metadata": {
    "deletable": false,
    "editable": false
   },
   "outputs": [],
   "source": []
  },
  {
   "cell_type": "code",
   "execution_count": 33,
   "metadata": {
    "ExecuteTime": {
     "end_time": "2021-09-27T09:46:48.497973Z",
     "start_time": "2021-09-27T09:46:48.464816Z"
    },
    "deletable": false,
    "editable": false
   },
   "outputs": [
    {
     "name": "stdout",
     "output_type": "stream",
     "text": [
      "The weights:\n"
     ]
    },
    {
     "data": {
      "text/latex": [
       "$\\displaystyle \\left[\\begin{matrix}0.9 & 0.1 & 0.0 & 0.0\\\\0.0 & 0.0 & 0.5 & 0.5\\end{matrix}\\right]$"
      ],
      "text/plain": [
       "Matrix([\n",
       "[0.9, 0.1, 0.0, 0.0],\n",
       "[0.0, 0.0, 0.5, 0.5]])"
      ]
     },
     "metadata": {},
     "output_type": "display_data"
    },
    {
     "name": "stdout",
     "output_type": "stream",
     "text": [
      "Measurement: X = \n"
     ]
    },
    {
     "data": {
      "text/latex": [
       "$\\displaystyle \\left[\\begin{matrix}0.108\\\\0.1175\\end{matrix}\\right]$"
      ],
      "text/plain": [
       "Matrix([\n",
       "[ 0.108],\n",
       "[0.1175]])"
      ]
     },
     "metadata": {},
     "output_type": "display_data"
    },
    {
     "name": "stdout",
     "output_type": "stream",
     "text": [
      "\n",
      " Covariance matrix: E = \n"
     ]
    },
    {
     "data": {
      "text/latex": [
       "$\\displaystyle \\left[\\begin{matrix}9.0 \\cdot 10^{-5} & 0.0\\\\0.0 & 0.00045\\end{matrix}\\right]$"
      ],
      "text/plain": [
       "Matrix([\n",
       "[9.0e-5,     0.0],\n",
       "[   0.0, 0.00045]])"
      ]
     },
     "metadata": {},
     "output_type": "display_data"
    },
    {
     "name": "stdout",
     "output_type": "stream",
     "text": [
      "\n",
      " sqrt(Covariance matrix): sqrt{E}\n"
     ]
    },
    {
     "data": {
      "text/latex": [
       "$\\displaystyle \\left[\\begin{matrix}0.00948683298050514 & 0.0\\\\0.0 & 0.0212132034355964\\end{matrix}\\right]$"
      ],
      "text/plain": [
       "Matrix([\n",
       "[0.00948683298050514,                0.0],\n",
       "[                0.0, 0.0212132034355964]])"
      ]
     },
     "metadata": {},
     "output_type": "display_data"
    },
    {
     "name": "stdout",
     "output_type": "stream",
     "text": [
      "\n",
      "\n",
      "\n",
      "Minimum chisqauare for the combination is 2.0250000000000012 (d.o.f = 2)  with p value 0.1816547846795055\n"
     ]
    }
   ],
   "source": [
    "combine_measurement(y, U42, M, stat=None, sys=None)"
   ]
  },
  {
   "cell_type": "markdown",
   "metadata": {
    "deletable": false,
    "editable": false
   },
   "source": [
    "***\n",
    "***\n",
    "\n",
    "Now suppose assuming LFU we are interested in one observables ${B_{\\alpha}}$ = {${B^{\\ell}}$}.\n"
   ]
  },
  {
   "cell_type": "code",
   "execution_count": 34,
   "metadata": {
    "ExecuteTime": {
     "end_time": "2021-09-27T09:47:09.115765Z",
     "start_time": "2021-09-27T09:47:09.104722Z"
    },
    "deletable": false,
    "editable": false
   },
   "outputs": [
    {
     "name": "stdout",
     "output_type": "stream",
     "text": [
      "The link matrix U = \n"
     ]
    },
    {
     "data": {
      "text/latex": [
       "$\\displaystyle \\left[\\begin{matrix}1\\\\1\\\\1\\\\1\\end{matrix}\\right]$"
      ],
      "text/plain": [
       "Matrix([\n",
       "[1],\n",
       "[1],\n",
       "[1],\n",
       "[1]])"
      ]
     },
     "metadata": {},
     "output_type": "display_data"
    }
   ],
   "source": [
    "U41 = np.array([1,1,1,1])\n",
    "print('The link matrix U = ')\n",
    "display(Matrix(U41))"
   ]
  },
  {
   "cell_type": "markdown",
   "metadata": {
    "deletable": false,
    "editable": false
   },
   "source": [
    "The script gives us, "
   ]
  },
  {
   "cell_type": "code",
   "execution_count": 35,
   "metadata": {
    "ExecuteTime": {
     "end_time": "2021-09-27T09:47:09.325745Z",
     "start_time": "2021-09-27T09:47:09.309922Z"
    },
    "deletable": false,
    "editable": false
   },
   "outputs": [
    {
     "name": "stdout",
     "output_type": "stream",
     "text": [
      "The weights:\n"
     ]
    },
    {
     "data": {
      "text/latex": [
       "$\\displaystyle \\left[\\begin{matrix}0.75\\\\0.0833333333333333\\\\0.0833333333333333\\\\0.0833333333333333\\end{matrix}\\right]$"
      ],
      "text/plain": [
       "Matrix([\n",
       "[              0.75],\n",
       "[0.0833333333333333],\n",
       "[0.0833333333333333],\n",
       "[0.0833333333333333]])"
      ]
     },
     "metadata": {},
     "output_type": "display_data"
    },
    {
     "name": "stdout",
     "output_type": "stream",
     "text": [
      "Measurement:0.10958333333333332+/-0.008660254037844387\n",
      "Minimum chisqauare for the combination is 2.192129629629631 (d.o.f = 3)  with p value 0.19739142442639945\n"
     ]
    }
   ],
   "source": [
    "combine_measurement(y, U41, M, stat=None, sys=None)"
   ]
  },
  {
   "cell_type": "markdown",
   "metadata": {
    "ExecuteTime": {
     "end_time": "2021-09-23T12:39:28.471099Z",
     "start_time": "2021-09-23T12:39:28.406749Z"
    },
    "deletable": false,
    "editable": false
   },
   "source": [
    "## Correlations between measuremens of same observables"
   ]
  },
  {
   "cell_type": "markdown",
   "metadata": {
    "deletable": false,
    "editable": false
   },
   "source": [
    "Let's assume that a 15% correlation exists between measrements performed by A and B for the same errors given before. So correlatoion will be $\\rho \\sigma_{1}\\sigma_{1} = 0.15 \\times 1 \\times 3 \\times 10^{-4} =0.45 \\times 10^{-4}$"
   ]
  },
  {
   "cell_type": "code",
   "execution_count": 36,
   "metadata": {
    "ExecuteTime": {
     "end_time": "2021-09-27T09:47:09.716977Z",
     "start_time": "2021-09-27T09:47:09.699017Z"
    },
    "deletable": false,
    "editable": false
   },
   "outputs": [
    {
     "name": "stdout",
     "output_type": "stream",
     "text": [
      "The covariance matrix will be: M=\n"
     ]
    },
    {
     "data": {
      "text/latex": [
       "$\\displaystyle \\left[\\begin{matrix}0.0001 & 4.5 \\cdot 10^{-5} & 0.0 & 0.0\\\\4.5 \\cdot 10^{-5} & 0.0009 & 0.0 & 0.0\\\\0.0 & 0.0 & 0.0009 & 0.0\\\\0.0 & 0.0 & 0.0 & 0.0009\\end{matrix}\\right]$"
      ],
      "text/plain": [
       "Matrix([\n",
       "[0.0001, 4.5e-5,    0.0,    0.0],\n",
       "[4.5e-5, 0.0009,    0.0,    0.0],\n",
       "[   0.0,    0.0, 0.0009,    0.0],\n",
       "[   0.0,    0.0,    0.0, 0.0009]])"
      ]
     },
     "metadata": {},
     "output_type": "display_data"
    }
   ],
   "source": [
    "M =  1e-4*np.array([[1,0.45, 0, 0], [0.45, 9,0,0],[0,0,9,0],[0,0,0,9]])\n",
    "print('The covariance matrix will be: M=')\n",
    "display(Matrix(M))"
   ]
  },
  {
   "cell_type": "markdown",
   "metadata": {
    "deletable": false,
    "editable": false
   },
   "source": [
    "* Measurement of  ${B_{\\alpha}} =$ {$B^{e}, B^{\\tau}$} gives,"
   ]
  },
  {
   "cell_type": "code",
   "execution_count": 37,
   "metadata": {
    "ExecuteTime": {
     "end_time": "2021-09-27T09:47:09.940352Z",
     "start_time": "2021-09-27T09:47:09.906648Z"
    },
    "deletable": false,
    "editable": false
   },
   "outputs": [
    {
     "name": "stdout",
     "output_type": "stream",
     "text": [
      "The weights:\n"
     ]
    },
    {
     "data": {
      "text/latex": [
       "$\\displaystyle \\left[\\begin{matrix}0.93956043956044 & 0.0604395604395604 & 0.0 & 0.0\\\\0.0 & 0.0 & 0.5 & 0.5\\end{matrix}\\right]$"
      ],
      "text/plain": [
       "Matrix([\n",
       "[0.93956043956044, 0.0604395604395604, 0.0, 0.0],\n",
       "[             0.0,                0.0, 0.5, 0.5]])"
      ]
     },
     "metadata": {},
     "output_type": "display_data"
    },
    {
     "name": "stdout",
     "output_type": "stream",
     "text": [
      "Measurement: X = \n"
     ]
    },
    {
     "data": {
      "text/latex": [
       "$\\displaystyle \\left[\\begin{matrix}0.106813186813187\\\\0.1175\\end{matrix}\\right]$"
      ],
      "text/plain": [
       "Matrix([\n",
       "[0.106813186813187],\n",
       "[           0.1175]])"
      ]
     },
     "metadata": {},
     "output_type": "display_data"
    },
    {
     "name": "stdout",
     "output_type": "stream",
     "text": [
      "\n",
      " Covariance matrix: E = \n"
     ]
    },
    {
     "data": {
      "text/latex": [
       "$\\displaystyle \\left[\\begin{matrix}9.66758241758242 \\cdot 10^{-5} & 0.0\\\\0.0 & 0.00045\\end{matrix}\\right]$"
      ],
      "text/plain": [
       "Matrix([\n",
       "[9.66758241758242e-5,     0.0],\n",
       "[                0.0, 0.00045]])"
      ]
     },
     "metadata": {},
     "output_type": "display_data"
    },
    {
     "name": "stdout",
     "output_type": "stream",
     "text": [
      "\n",
      " sqrt(Covariance matrix): sqrt{E}\n"
     ]
    },
    {
     "data": {
      "text/latex": [
       "$\\displaystyle \\left[\\begin{matrix}0.00983238649442871 & 0.0\\\\0.0 & 0.0212132034355964\\end{matrix}\\right]$"
      ],
      "text/plain": [
       "Matrix([\n",
       "[0.00983238649442871,                0.0],\n",
       "[                0.0, 0.0212132034355964]])"
      ]
     },
     "metadata": {},
     "output_type": "display_data"
    },
    {
     "name": "stdout",
     "output_type": "stream",
     "text": [
      "\n",
      "\n",
      "\n",
      "Minimum chisqauare for the combination is 2.1140109890109904 (d.o.f = 2)  with p value 0.17374741452746106\n"
     ]
    }
   ],
   "source": [
    "combine_measurement(y, U42, M, stat=None, sys=None)"
   ]
  },
  {
   "cell_type": "code",
   "execution_count": null,
   "metadata": {
    "deletable": false,
    "editable": false
   },
   "outputs": [],
   "source": []
  },
  {
   "cell_type": "markdown",
   "metadata": {
    "deletable": false,
    "editable": false
   },
   "source": [
    "* Measurement of  ${B_{\\alpha}} =$ {$B^{\\ell}$} gives,"
   ]
  },
  {
   "cell_type": "code",
   "execution_count": 38,
   "metadata": {
    "ExecuteTime": {
     "end_time": "2021-09-27T09:47:10.121344Z",
     "start_time": "2021-09-27T09:47:10.107454Z"
    },
    "deletable": false,
    "editable": false
   },
   "outputs": [
    {
     "name": "stdout",
     "output_type": "stream",
     "text": [
      "The weights:\n"
     ]
    },
    {
     "data": {
      "text/latex": [
       "$\\displaystyle \\left[\\begin{matrix}0.773405698778833\\\\0.0497512437810945\\\\0.0884215287200362\\\\0.0884215287200362\\end{matrix}\\right]$"
      ],
      "text/plain": [
       "Matrix([\n",
       "[ 0.773405698778833],\n",
       "[0.0497512437810945],\n",
       "[0.0884215287200362],\n",
       "[0.0884215287200362]])"
      ]
     },
     "metadata": {},
     "output_type": "display_data"
    },
    {
     "name": "stdout",
     "output_type": "stream",
     "text": [
      "Measurement:0.10870307553143374+/-0.008920727316089902\n",
      "Minimum chisqauare for the combination is 2.3229245188200434 (d.o.f = 3)  with p value 0.19033162900540035\n"
     ]
    }
   ],
   "source": [
    "combine_measurement(y, U41, M, stat=None, sys=None)"
   ]
  },
  {
   "cell_type": "markdown",
   "metadata": {
    "deletable": false,
    "editable": false
   },
   "source": [
    "## Correlation between measurements of different observables"
   ]
  },
  {
   "cell_type": "markdown",
   "metadata": {
    "deletable": false,
    "editable": false
   },
   "source": [
    "### Positive correlation"
   ]
  },
  {
   "cell_type": "markdown",
   "metadata": {
    "deletable": false,
    "editable": false
   },
   "source": [
    "Now suppose +99.5% correlation exists between measurements of $B^{e}$ and $B^{\\tau}$ performed by B, while the results of A and  B are uncorrelated. In the same experiment there are se"
   ]
  },
  {
   "cell_type": "code",
   "execution_count": 39,
   "metadata": {
    "ExecuteTime": {
     "end_time": "2021-09-27T09:47:10.694266Z",
     "start_time": "2021-09-27T09:47:10.679137Z"
    },
    "deletable": false,
    "editable": false
   },
   "outputs": [
    {
     "name": "stdout",
     "output_type": "stream",
     "text": [
      "The covariance matrix will be: M=\n"
     ]
    },
    {
     "data": {
      "text/latex": [
       "$\\displaystyle \\left[\\begin{matrix}0.0001 & 0.0 & 0.0 & 0.0\\\\0.0 & 0.0009 & 0.0 & 0.000896\\\\0.0 & 0.0 & 0.0009 & 0.0\\\\0.0 & 0.000896 & 0.0 & 0.0009\\end{matrix}\\right]$"
      ],
      "text/plain": [
       "Matrix([\n",
       "[0.0001,      0.0,    0.0,      0.0],\n",
       "[   0.0,   0.0009,    0.0, 0.000896],\n",
       "[   0.0,      0.0, 0.0009,      0.0],\n",
       "[   0.0, 0.000896,    0.0,   0.0009]])"
      ]
     },
     "metadata": {},
     "output_type": "display_data"
    }
   ],
   "source": [
    "M =  1e-4*np.array([[1,0, 0, 0], [0, 9,0,8.96],[0,0,9,0],[0,8.96,0,9]])\n",
    "print('The covariance matrix will be: M=')\n",
    "display(Matrix(M))"
   ]
  },
  {
   "cell_type": "markdown",
   "metadata": {
    "deletable": false,
    "editable": false
   },
   "source": [
    "* This leads to measurement of  ${B_{\\alpha}} =$ {$B^{e}, B^{\\tau}$} as,"
   ]
  },
  {
   "cell_type": "code",
   "execution_count": 40,
   "metadata": {
    "ExecuteTime": {
     "end_time": "2021-09-27T09:47:10.916147Z",
     "start_time": "2021-09-27T09:47:10.883606Z"
    },
    "deletable": false,
    "editable": false,
    "scrolled": false
   },
   "outputs": [
    {
     "name": "stdout",
     "output_type": "stream",
     "text": [
      "The weights:\n"
     ]
    },
    {
     "data": {
      "text/latex": [
       "$\\displaystyle \\left[\\begin{matrix}0.819491688595084 & 0.180508311404916 & 0.0898530261215584 & -0.089853026121558\\\\0.808677235094026 & -0.808677235094026 & 0.0974584429754188 & 0.902541557024581\\end{matrix}\\right]$"
      ],
      "text/plain": [
       "Matrix([\n",
       "[0.819491688595084,  0.180508311404916, 0.0898530261215584, -0.089853026121558],\n",
       "[0.808677235094026, -0.808677235094026, 0.0974584429754188,  0.902541557024581]])"
      ]
     },
     "metadata": {},
     "output_type": "display_data"
    },
    {
     "name": "stdout",
     "output_type": "stream",
     "text": [
      "Measurement: X = \n"
     ]
    },
    {
     "data": {
      "text/latex": [
       "$\\displaystyle \\left[\\begin{matrix}0.106371863166678\\\\0.111354053013285\\end{matrix}\\right]$"
      ],
      "text/plain": [
       "Matrix([\n",
       "[0.106371863166678],\n",
       "[0.111354053013285]])"
      ]
     },
     "metadata": {},
     "output_type": "display_data"
    },
    {
     "name": "stdout",
     "output_type": "stream",
     "text": [
      "\n",
      " Covariance matrix: E = \n"
     ]
    },
    {
     "data": {
      "text/latex": [
       "$\\displaystyle \\left[\\begin{matrix}8.19491688595084 \\cdot 10^{-5} & 8.08677235094026 \\cdot 10^{-5}\\\\8.08677235094026 \\cdot 10^{-5} & 8.77125986778769 \\cdot 10^{-5}\\end{matrix}\\right]$"
      ],
      "text/plain": [
       "Matrix([\n",
       "[8.19491688595084e-5, 8.08677235094026e-5],\n",
       "[8.08677235094026e-5, 8.77125986778769e-5]])"
      ]
     },
     "metadata": {},
     "output_type": "display_data"
    },
    {
     "name": "stdout",
     "output_type": "stream",
     "text": [
      "\n",
      " sqrt(Covariance matrix): sqrt{E}\n"
     ]
    },
    {
     "data": {
      "text/latex": [
       "$\\displaystyle \\left[\\begin{matrix}0.00905257802283463 & 0.00899264830344224\\\\0.00899264830344224 & 0.0093655004499427\\end{matrix}\\right]$"
      ],
      "text/plain": [
       "Matrix([\n",
       "[0.00905257802283463, 0.00899264830344224],\n",
       "[0.00899264830344224,  0.0093655004499427]])"
      ]
     },
     "metadata": {},
     "output_type": "display_data"
    },
    {
     "name": "stdout",
     "output_type": "stream",
     "text": [
      "\n",
      "\n",
      "\n",
      "Minimum chisqauare for the combination is 1.22926160066748 (d.o.f = 2)  with p value 0.2704202682994562\n"
     ]
    }
   ],
   "source": [
    "combine_measurement(y, U42, M, stat=None, sys=None)"
   ]
  },
  {
   "cell_type": "markdown",
   "metadata": {
    "deletable": false,
    "editable": false
   },
   "source": [
    "* This leads to measurement of  ${B_{\\alpha}} =$ {$B^{\\ell}$} as,"
   ]
  },
  {
   "cell_type": "code",
   "execution_count": 41,
   "metadata": {
    "ExecuteTime": {
     "end_time": "2021-09-27T09:47:11.097525Z",
     "start_time": "2021-09-27T09:47:11.082585Z"
    },
    "deletable": false,
    "editable": false
   },
   "outputs": [
    {
     "name": "stdout",
     "output_type": "stream",
     "text": [
      "The weights:\n"
     ]
    },
    {
     "data": {
      "text/latex": [
       "$\\displaystyle \\left[\\begin{matrix}0.818016194331984\\\\0.0455465587044532\\\\0.0908906882591094\\\\0.0455465587044532\\end{matrix}\\right]$"
      ],
      "text/plain": [
       "Matrix([\n",
       "[ 0.818016194331984],\n",
       "[0.0455465587044532],\n",
       "[0.0908906882591094],\n",
       "[0.0455465587044532]])"
      ]
     },
     "metadata": {},
     "output_type": "display_data"
    },
    {
     "name": "stdout",
     "output_type": "stream",
     "text": [
      "Measurement:0.10705161943319838+/-0.009044424770719166\n",
      "Minimum chisqauare for the combination is 4.360880566801648 (d.o.f = 3)  with p value 0.09413345065568042\n"
     ]
    }
   ],
   "source": [
    "combine_measurement(y, U41, M, stat=None, sys=None)"
   ]
  },
  {
   "cell_type": "markdown",
   "metadata": {
    "ExecuteTime": {
     "end_time": "2021-09-23T13:10:39.372821Z",
     "start_time": "2021-09-23T13:10:39.368446Z"
    },
    "deletable": false,
    "editable": false
   },
   "source": [
    "### Negetive correlation"
   ]
  },
  {
   "cell_type": "markdown",
   "metadata": {
    "deletable": false,
    "editable": false
   },
   "source": [
    "In the example above let the correlation between  $\\mathcal{\\hat{B}}^{e}_{A}$ and $\\mathcal{\\hat{B}}^{e}_{A}$ be equal to -99.5%. \n",
    "\n",
    "**Negetive correlation can be understood in this case as mis-identification of  electron as tau or vice virsa.**\n"
   ]
  },
  {
   "cell_type": "code",
   "execution_count": 42,
   "metadata": {
    "ExecuteTime": {
     "end_time": "2021-09-27T09:47:11.471144Z",
     "start_time": "2021-09-27T09:47:11.454966Z"
    },
    "deletable": false,
    "editable": false
   },
   "outputs": [
    {
     "name": "stdout",
     "output_type": "stream",
     "text": [
      "The covariance matrix will be: M=\n"
     ]
    },
    {
     "data": {
      "text/latex": [
       "$\\displaystyle \\left[\\begin{matrix}0.0001 & 0.0 & 0.0 & 0.0\\\\0.0 & 0.0009 & 0.0 & -0.000896\\\\0.0 & 0.0 & 0.0009 & 0.0\\\\0.0 & -0.000896 & 0.0 & 0.0009\\end{matrix}\\right]$"
      ],
      "text/plain": [
       "Matrix([\n",
       "[0.0001,       0.0,    0.0,       0.0],\n",
       "[   0.0,    0.0009,    0.0, -0.000896],\n",
       "[   0.0,       0.0, 0.0009,       0.0],\n",
       "[   0.0, -0.000896,    0.0,    0.0009]])"
      ]
     },
     "metadata": {},
     "output_type": "display_data"
    }
   ],
   "source": [
    "M =  1e-4*np.array([[1,0, 0, 0], [0, 9,0,-8.96],[0,0,9,0],[0,-8.96,0,9]])\n",
    "print('The covariance matrix will be: M=')\n",
    "display(Matrix(M))"
   ]
  },
  {
   "cell_type": "markdown",
   "metadata": {
    "deletable": false,
    "editable": false
   },
   "source": [
    "* This leads to measurement of  ${B_{\\alpha}} =$ {$B^{e}, B^{\\tau}$} as,"
   ]
  },
  {
   "cell_type": "code",
   "execution_count": 43,
   "metadata": {
    "ExecuteTime": {
     "end_time": "2021-09-27T09:47:11.683646Z",
     "start_time": "2021-09-27T09:47:11.646310Z"
    },
    "deletable": false,
    "editable": false,
    "scrolled": false
   },
   "outputs": [
    {
     "name": "stdout",
     "output_type": "stream",
     "text": [
      "The weights:\n"
     ]
    },
    {
     "data": {
      "text/latex": [
       "$\\displaystyle \\left[\\begin{matrix}0.819491688595084 & 0.180508311404916 & -0.0898530261215584 & 0.089853026121558\\\\-0.808677235094026 & 0.808677235094026 & 0.0974584429754188 & 0.902541557024581\\end{matrix}\\right]$"
      ],
      "text/plain": [
       "Matrix([\n",
       "[ 0.819491688595084, 0.180508311404916, -0.0898530261215584, 0.089853026121558],\n",
       "[-0.808677235094026, 0.808677235094026,  0.0974584429754188, 0.902541557024581]])"
      ]
     },
     "metadata": {},
     "output_type": "display_data"
    },
    {
     "name": "stdout",
     "output_type": "stream",
     "text": [
      "Measurement: X = \n"
     ]
    },
    {
     "data": {
      "text/latex": [
       "$\\displaystyle \\left[\\begin{matrix}0.114458635517618\\\\0.159874687118927\\end{matrix}\\right]$"
      ],
      "text/plain": [
       "Matrix([\n",
       "[0.114458635517618],\n",
       "[0.159874687118927]])"
      ]
     },
     "metadata": {},
     "output_type": "display_data"
    },
    {
     "name": "stdout",
     "output_type": "stream",
     "text": [
      "\n",
      " Covariance matrix: E = \n"
     ]
    },
    {
     "data": {
      "text/latex": [
       "$\\displaystyle \\left[\\begin{matrix}8.19491688595084 \\cdot 10^{-5} & -8.08677235094026 \\cdot 10^{-5}\\\\-8.08677235094026 \\cdot 10^{-5} & 8.77125986778769 \\cdot 10^{-5}\\end{matrix}\\right]$"
      ],
      "text/plain": [
       "Matrix([\n",
       "[ 8.19491688595084e-5, -8.08677235094026e-5],\n",
       "[-8.08677235094026e-5,  8.77125986778769e-5]])"
      ]
     },
     "metadata": {},
     "output_type": "display_data"
    },
    {
     "name": "stdout",
     "output_type": "stream",
     "text": [
      "\n",
      " sqrt(Covariance matrix): sqrt{E}\n"
     ]
    },
    {
     "name": "stderr",
     "output_type": "stream",
     "text": [
      "/home/soumen/source/anaconda/lib/python3.7/site-packages/ipykernel_launcher.py:43: RuntimeWarning: invalid value encountered in sqrt\n"
     ]
    },
    {
     "data": {
      "text/latex": [
       "$\\displaystyle \\left[\\begin{matrix}0.00905257802283463 & \\text{NaN}\\\\\\text{NaN} & 0.0093655004499427\\end{matrix}\\right]$"
      ],
      "text/plain": [
       "Matrix([\n",
       "[0.00905257802283463,                nan],\n",
       "[                nan, 0.0093655004499427]])"
      ]
     },
     "metadata": {},
     "output_type": "display_data"
    },
    {
     "name": "stdout",
     "output_type": "stream",
     "text": [
      "\n",
      "\n",
      "\n",
      "Minimum chisqauare for the combination is 6.081325011231629 (d.o.f = 2)  with p value 0.02390160455332634\n"
     ]
    }
   ],
   "source": [
    "combine_measurement(y, U42, M, stat=None, sys=None)"
   ]
  },
  {
   "cell_type": "markdown",
   "metadata": {
    "deletable": false,
    "editable": false
   },
   "source": [
    "* This leads to measurement of  ${B_{\\alpha}} =$ {$B^{\\ell}$} as,"
   ]
  },
  {
   "cell_type": "code",
   "execution_count": 44,
   "metadata": {
    "ExecuteTime": {
     "end_time": "2021-09-27T09:47:11.847824Z",
     "start_time": "2021-09-27T09:47:11.830621Z"
    },
    "deletable": false,
    "editable": false
   },
   "outputs": [
    {
     "name": "stdout",
     "output_type": "stream",
     "text": [
      "The weights:\n"
     ]
    },
    {
     "data": {
      "text/latex": [
       "$\\displaystyle \\left[\\begin{matrix}0.0195652173913041\\\\0.489130434782609\\\\0.00217391304347824\\\\0.489130434782609\\end{matrix}\\right]$"
      ],
      "text/plain": [
       "Matrix([\n",
       "[ 0.0195652173913041],\n",
       "[  0.489130434782609],\n",
       "[0.00217391304347824],\n",
       "[  0.489130434782609]])"
      ]
     },
     "metadata": {},
     "output_type": "display_data"
    },
    {
     "name": "stdout",
     "output_type": "stream",
     "text": [
      "Measurement:0.13677173913043478+/-0.0013987572123604632\n",
      "Minimum chisqauare for the combination is 12.305329476130543 (d.o.f = 3)  with p value 0.002977750761029625\n"
     ]
    }
   ],
   "source": [
    "combine_measurement(y, U41, M, stat=None, sys=None)"
   ]
  },
  {
   "cell_type": "markdown",
   "metadata": {
    "ExecuteTime": {
     "end_time": "2021-09-23T13:43:47.511290Z",
     "start_time": "2021-09-23T13:43:47.506907Z"
    },
    "deletable": false,
    "editable": false
   },
   "source": [
    "### Breakdown of error contributions"
   ]
  },
  {
   "cell_type": "code",
   "execution_count": 45,
   "metadata": {
    "ExecuteTime": {
     "end_time": "2021-09-27T09:47:12.044284Z",
     "start_time": "2021-09-27T09:47:12.027141Z"
    },
    "deletable": false,
    "editable": false
   },
   "outputs": [],
   "source": [
    "STAT = 1e-4*np.array([[1,0, 0, 0], [0, 0.04,0,0],[0,0,9,0],[0,0,0,0.04]])\n",
    "SYS1 =  1e-4*np.array([[0,0, 0, 0], [0, 8.96,0,8.96],[0,0,0,0],[0,8.96,0,8.96]])\n",
    "SYS2 =  1e-4*np.array([[0,0, 0, 0], [0, 8.96,0,0],[0,0,0,0],[0,0,0,8.96]])\n",
    "SYS3 =  1e-4*np.array([[0,0, 0, 0], [0, 8.96,0,-8.96],[0,0,0,0],[0,-8.96,0,8.96]])\n",
    "\n",
    "SYS0 =  1e-4*np.array([[0,0, 0, 0], [0, 0,0,0],[0,0,0,0],[0,0,0,0]])"
   ]
  },
  {
   "cell_type": "code",
   "execution_count": 46,
   "metadata": {
    "ExecuteTime": {
     "end_time": "2021-09-27T09:47:12.063109Z",
     "start_time": "2021-09-27T09:47:12.048460Z"
    },
    "deletable": false,
    "editable": false
   },
   "outputs": [
    {
     "name": "stdout",
     "output_type": "stream",
     "text": [
      "The statictical compoments of covariance matrix is :  MStat\n"
     ]
    },
    {
     "data": {
      "text/latex": [
       "$\\displaystyle \\left[\\begin{matrix}0.0001 & 0.0 & 0.0 & 0.0\\\\0.0 & 4.0 \\cdot 10^{-6} & 0.0 & 0.0\\\\0.0 & 0.0 & 0.0009 & 0.0\\\\0.0 & 0.0 & 0.0 & 4.0 \\cdot 10^{-6}\\end{matrix}\\right]$"
      ],
      "text/plain": [
       "Matrix([\n",
       "[0.0001,    0.0,    0.0,    0.0],\n",
       "[   0.0, 4.0e-6,    0.0,    0.0],\n",
       "[   0.0,    0.0, 0.0009,    0.0],\n",
       "[   0.0,    0.0,    0.0, 4.0e-6]])"
      ]
     },
     "metadata": {},
     "output_type": "display_data"
    }
   ],
   "source": [
    "print('The statictical compoments of covariance matrix is :  MStat')\n",
    "display(Matrix(STAT))"
   ]
  },
  {
   "cell_type": "markdown",
   "metadata": {
    "deletable": false,
    "editable": false
   },
   "source": [
    "* For  $\\mathcal{\\hat{B}}^{e}_{B}$ and $\\mathcal{\\hat{B}}^{\\tau}_{B}$ +100% correlated scenario\n",
    "   *  ${B_{\\alpha}} =$ {$B^{e}, B^{\\tau}$} \n",
    "   *  ${B_{\\alpha}} =$ {$B^{\\ell}$} \n",
    "   "
   ]
  },
  {
   "cell_type": "code",
   "execution_count": 47,
   "metadata": {
    "ExecuteTime": {
     "end_time": "2021-09-27T09:47:12.350946Z",
     "start_time": "2021-09-27T09:47:12.273644Z"
    },
    "deletable": false,
    "editable": false
   },
   "outputs": [
    {
     "name": "stdout",
     "output_type": "stream",
     "text": [
      "The systematic compoments of covariance matrix is :  MSys\n"
     ]
    },
    {
     "data": {
      "text/latex": [
       "$\\displaystyle \\left[\\begin{matrix}0.0 & 0.0 & 0.0 & 0.0\\\\0.0 & 0.000896 & 0.0 & 0.000896\\\\0.0 & 0.0 & 0.0 & 0.0\\\\0.0 & 0.000896 & 0.0 & 0.000896\\end{matrix}\\right]$"
      ],
      "text/plain": [
       "Matrix([\n",
       "[0.0,      0.0, 0.0,      0.0],\n",
       "[0.0, 0.000896, 0.0, 0.000896],\n",
       "[0.0,      0.0, 0.0,      0.0],\n",
       "[0.0, 0.000896, 0.0, 0.000896]])"
      ]
     },
     "metadata": {},
     "output_type": "display_data"
    },
    {
     "name": "stdout",
     "output_type": "stream",
     "text": [
      "The weights:\n"
     ]
    },
    {
     "data": {
      "text/latex": [
       "$\\displaystyle \\left[\\begin{matrix}0.819491688595084 & 0.180508311404916 & 0.0898530261215584 & -0.089853026121558\\\\0.808677235094026 & -0.808677235094026 & 0.0974584429754188 & 0.902541557024581\\end{matrix}\\right]$"
      ],
      "text/plain": [
       "Matrix([\n",
       "[0.819491688595084,  0.180508311404916, 0.0898530261215584, -0.089853026121558],\n",
       "[0.808677235094026, -0.808677235094026, 0.0974584429754188,  0.902541557024581]])"
      ]
     },
     "metadata": {},
     "output_type": "display_data"
    },
    {
     "name": "stdout",
     "output_type": "stream",
     "text": [
      "Measurement: X = \n"
     ]
    },
    {
     "data": {
      "text/latex": [
       "$\\displaystyle \\left[\\begin{matrix}0.106371863166678\\\\0.111354053013285\\end{matrix}\\right]$"
      ],
      "text/plain": [
       "Matrix([\n",
       "[0.106371863166678],\n",
       "[0.111354053013285]])"
      ]
     },
     "metadata": {},
     "output_type": "display_data"
    },
    {
     "name": "stdout",
     "output_type": "stream",
     "text": [
      "\n",
      " Covariance matrix: E = \n"
     ]
    },
    {
     "data": {
      "text/latex": [
       "$\\displaystyle \\left[\\begin{matrix}8.19491688595084 \\cdot 10^{-5} & 8.08677235094026 \\cdot 10^{-5}\\\\8.08677235094026 \\cdot 10^{-5} & 8.77125986778769 \\cdot 10^{-5}\\end{matrix}\\right]$"
      ],
      "text/plain": [
       "Matrix([\n",
       "[8.19491688595084e-5, 8.08677235094026e-5],\n",
       "[8.08677235094026e-5, 8.77125986778769e-5]])"
      ]
     },
     "metadata": {},
     "output_type": "display_data"
    },
    {
     "name": "stdout",
     "output_type": "stream",
     "text": [
      "\n",
      " sqrt(Covariance matrix): sqrt{E}\n"
     ]
    },
    {
     "data": {
      "text/latex": [
       "$\\displaystyle \\left[\\begin{matrix}0.00905257802283463 & 0.00899264830344224\\\\0.00899264830344224 & 0.0093655004499427\\end{matrix}\\right]$"
      ],
      "text/plain": [
       "Matrix([\n",
       "[0.00905257802283463, 0.00899264830344224],\n",
       "[0.00899264830344224,  0.0093655004499427]])"
      ]
     },
     "metadata": {},
     "output_type": "display_data"
    },
    {
     "name": "stdout",
     "output_type": "stream",
     "text": [
      "\n",
      "\n",
      "\n",
      "\n",
      " Estat =  \n"
     ]
    },
    {
     "data": {
      "text/latex": [
       "$\\displaystyle \\left[\\begin{matrix}7.45854997076814 \\cdot 10^{-5} & 7.32433935026436 \\cdot 10^{-5}\\\\7.32433935026436 \\cdot 10^{-5} & 7.98183808832681 \\cdot 10^{-5}\\end{matrix}\\right]$"
      ],
      "text/plain": [
       "Matrix([\n",
       "[7.45854997076814e-5, 7.32433935026436e-5],\n",
       "[7.32433935026436e-5, 7.98183808832681e-5]])"
      ]
     },
     "metadata": {},
     "output_type": "display_data"
    },
    {
     "name": "stdout",
     "output_type": "stream",
     "text": [
      "\n",
      " sqrt(Estat) = \n"
     ]
    },
    {
     "data": {
      "text/latex": [
       "$\\displaystyle \\left[\\begin{matrix}0.00863628969567843 & 0.00855823541991243\\\\0.00855823541991243 & 0.00893411332384295\\end{matrix}\\right]$"
      ],
      "text/plain": [
       "Matrix([\n",
       "[0.00863628969567843, 0.00855823541991243],\n",
       "[0.00855823541991243, 0.00893411332384295]])"
      ]
     },
     "metadata": {},
     "output_type": "display_data"
    },
    {
     "name": "stdout",
     "output_type": "stream",
     "text": [
      "\n",
      "\n",
      "\n",
      "\n",
      " Esys =  \n"
     ]
    },
    {
     "data": {
      "text/latex": [
       "$\\displaystyle \\left[\\begin{matrix}7.36366915182715 \\cdot 10^{-6} & 7.62433000675895 \\cdot 10^{-6}\\\\7.62433000675896 \\cdot 10^{-6} & 7.89421779460871 \\cdot 10^{-6}\\end{matrix}\\right]$"
      ],
      "text/plain": [
       "Matrix([\n",
       "[7.36366915182715e-6, 7.62433000675895e-6],\n",
       "[7.62433000675896e-6, 7.89421779460871e-6]])"
      ]
     },
     "metadata": {},
     "output_type": "display_data"
    },
    {
     "name": "stdout",
     "output_type": "stream",
     "text": [
      "\n",
      " sqrt(Esys) = \n"
     ]
    },
    {
     "data": {
      "text/latex": [
       "$\\displaystyle \\left[\\begin{matrix}0.00271360814264461 & 0.00276121893495589\\\\0.00276121893495589 & 0.00280966506804792\\end{matrix}\\right]$"
      ],
      "text/plain": [
       "Matrix([\n",
       "[0.00271360814264461, 0.00276121893495589],\n",
       "[0.00276121893495589, 0.00280966506804792]])"
      ]
     },
     "metadata": {},
     "output_type": "display_data"
    },
    {
     "name": "stdout",
     "output_type": "stream",
     "text": [
      "\n",
      "\n",
      "\n",
      "Minimum chisqauare for the combination is 1.22926160066748 (d.o.f = 2)  with p value 0.2704202682994562\n"
     ]
    }
   ],
   "source": [
    "print('The systematic compoments of covariance matrix is :  MSys')\n",
    "display(Matrix(SYS1))\n",
    "M = STAT+SYS1\n",
    "combine_measurement(y, U42, M, stat=STAT, sys=SYS1)"
   ]
  },
  {
   "cell_type": "code",
   "execution_count": 48,
   "metadata": {
    "ExecuteTime": {
     "end_time": "2021-09-27T09:47:12.372481Z",
     "start_time": "2021-09-27T09:47:12.355295Z"
    },
    "deletable": false,
    "editable": false
   },
   "outputs": [
    {
     "name": "stdout",
     "output_type": "stream",
     "text": [
      "The weights:\n"
     ]
    },
    {
     "data": {
      "text/latex": [
       "$\\displaystyle \\left[\\begin{matrix}0.818016194331984\\\\0.0455465587044532\\\\0.0908906882591094\\\\0.0455465587044532\\end{matrix}\\right]$"
      ],
      "text/plain": [
       "Matrix([\n",
       "[ 0.818016194331984],\n",
       "[0.0455465587044532],\n",
       "[0.0908906882591094],\n",
       "[0.0455465587044532]])"
      ]
     },
     "metadata": {},
     "output_type": "display_data"
    },
    {
     "name": "stdout",
     "output_type": "stream",
     "text": [
      "Measurement:0.10705161943319838+/-0.009044424770719166\n",
      "Measurement:0.10705161943319838+/-0.008623610080587478 +/-0.002726713885098403\n",
      "Minimum chisqauare for the combination is 4.360880566801648 (d.o.f = 3)  with p value 0.09413345065568042\n"
     ]
    }
   ],
   "source": [
    "combine_measurement(y, U41, M, stat=STAT, sys=SYS1)"
   ]
  },
  {
   "cell_type": "code",
   "execution_count": null,
   "metadata": {
    "deletable": false,
    "editable": false
   },
   "outputs": [],
   "source": []
  },
  {
   "cell_type": "code",
   "execution_count": null,
   "metadata": {
    "deletable": false,
    "editable": false
   },
   "outputs": [],
   "source": []
  },
  {
   "cell_type": "markdown",
   "metadata": {
    "deletable": false,
    "editable": false
   },
   "source": [
    "* For  $\\mathcal{\\hat{B}}^{e}_{B}$ and $\\mathcal{\\hat{B}}^{\\tau}_{B}$ uncorrelated scenario\n",
    "   *  ${B_{\\alpha}} =$ {$B^{e}, B^{\\tau}$} \n",
    "   *  ${B_{\\alpha}} =$ {$B^{\\ell}$} \n",
    "   "
   ]
  },
  {
   "cell_type": "code",
   "execution_count": 49,
   "metadata": {
    "ExecuteTime": {
     "end_time": "2021-09-27T09:47:12.592505Z",
     "start_time": "2021-09-27T09:47:12.515561Z"
    },
    "deletable": false,
    "editable": false
   },
   "outputs": [
    {
     "name": "stdout",
     "output_type": "stream",
     "text": [
      "The systematic compoments of covariance matrix is :  MSys\n"
     ]
    },
    {
     "data": {
      "text/latex": [
       "$\\displaystyle \\left[\\begin{matrix}0.0 & 0.0 & 0.0 & 0.0\\\\0.0 & 0.000896 & 0.0 & 0.0\\\\0.0 & 0.0 & 0.0 & 0.0\\\\0.0 & 0.0 & 0.0 & 0.000896\\end{matrix}\\right]$"
      ],
      "text/plain": [
       "Matrix([\n",
       "[0.0,      0.0, 0.0,      0.0],\n",
       "[0.0, 0.000896, 0.0,      0.0],\n",
       "[0.0,      0.0, 0.0,      0.0],\n",
       "[0.0,      0.0, 0.0, 0.000896]])"
      ]
     },
     "metadata": {},
     "output_type": "display_data"
    },
    {
     "name": "stdout",
     "output_type": "stream",
     "text": [
      "The weights:\n"
     ]
    },
    {
     "data": {
      "text/latex": [
       "$\\displaystyle \\left[\\begin{matrix}0.9 & 0.1 & 0.0 & 0.0\\\\0.0 & 0.0 & 0.5 & 0.5\\end{matrix}\\right]$"
      ],
      "text/plain": [
       "Matrix([\n",
       "[0.9, 0.1, 0.0, 0.0],\n",
       "[0.0, 0.0, 0.5, 0.5]])"
      ]
     },
     "metadata": {},
     "output_type": "display_data"
    },
    {
     "name": "stdout",
     "output_type": "stream",
     "text": [
      "Measurement: X = \n"
     ]
    },
    {
     "data": {
      "text/latex": [
       "$\\displaystyle \\left[\\begin{matrix}0.108\\\\0.1175\\end{matrix}\\right]$"
      ],
      "text/plain": [
       "Matrix([\n",
       "[ 0.108],\n",
       "[0.1175]])"
      ]
     },
     "metadata": {},
     "output_type": "display_data"
    },
    {
     "name": "stdout",
     "output_type": "stream",
     "text": [
      "\n",
      " Covariance matrix: E = \n"
     ]
    },
    {
     "data": {
      "text/latex": [
       "$\\displaystyle \\left[\\begin{matrix}9.0 \\cdot 10^{-5} & 0.0\\\\0.0 & 0.00045\\end{matrix}\\right]$"
      ],
      "text/plain": [
       "Matrix([\n",
       "[9.0e-5,     0.0],\n",
       "[   0.0, 0.00045]])"
      ]
     },
     "metadata": {},
     "output_type": "display_data"
    },
    {
     "name": "stdout",
     "output_type": "stream",
     "text": [
      "\n",
      " sqrt(Covariance matrix): sqrt{E}\n"
     ]
    },
    {
     "data": {
      "text/latex": [
       "$\\displaystyle \\left[\\begin{matrix}0.00948683298050514 & 0.0\\\\0.0 & 0.0212132034355964\\end{matrix}\\right]$"
      ],
      "text/plain": [
       "Matrix([\n",
       "[0.00948683298050514,                0.0],\n",
       "[                0.0, 0.0212132034355964]])"
      ]
     },
     "metadata": {},
     "output_type": "display_data"
    },
    {
     "name": "stdout",
     "output_type": "stream",
     "text": [
      "\n",
      "\n",
      "\n",
      "\n",
      " Estat =  \n"
     ]
    },
    {
     "data": {
      "text/latex": [
       "$\\displaystyle \\left[\\begin{matrix}8.104 \\cdot 10^{-5} & 0.0\\\\0.0 & 0.000226\\end{matrix}\\right]$"
      ],
      "text/plain": [
       "Matrix([\n",
       "[8.104e-5,      0.0],\n",
       "[     0.0, 0.000226]])"
      ]
     },
     "metadata": {},
     "output_type": "display_data"
    },
    {
     "name": "stdout",
     "output_type": "stream",
     "text": [
      "\n",
      " sqrt(Estat) = \n"
     ]
    },
    {
     "data": {
      "text/latex": [
       "$\\displaystyle \\left[\\begin{matrix}0.00900222194794152 & 0.0\\\\0.0 & 0.0150332963783729\\end{matrix}\\right]$"
      ],
      "text/plain": [
       "Matrix([\n",
       "[0.00900222194794152,                0.0],\n",
       "[                0.0, 0.0150332963783729]])"
      ]
     },
     "metadata": {},
     "output_type": "display_data"
    },
    {
     "name": "stdout",
     "output_type": "stream",
     "text": [
      "\n",
      "\n",
      "\n",
      "\n",
      " Esys =  \n"
     ]
    },
    {
     "data": {
      "text/latex": [
       "$\\displaystyle \\left[\\begin{matrix}8.96 \\cdot 10^{-6} & 0.0\\\\0.0 & 0.000224\\end{matrix}\\right]$"
      ],
      "text/plain": [
       "Matrix([\n",
       "[8.96e-6,      0.0],\n",
       "[    0.0, 0.000224]])"
      ]
     },
     "metadata": {},
     "output_type": "display_data"
    },
    {
     "name": "stdout",
     "output_type": "stream",
     "text": [
      "\n",
      " sqrt(Esys) = \n"
     ]
    },
    {
     "data": {
      "text/latex": [
       "$\\displaystyle \\left[\\begin{matrix}0.00299332590941915 & 0.0\\\\0.0 & 0.0149666295470958\\end{matrix}\\right]$"
      ],
      "text/plain": [
       "Matrix([\n",
       "[0.00299332590941915,                0.0],\n",
       "[                0.0, 0.0149666295470958]])"
      ]
     },
     "metadata": {},
     "output_type": "display_data"
    },
    {
     "name": "stdout",
     "output_type": "stream",
     "text": [
      "\n",
      "\n",
      "\n",
      "Minimum chisqauare for the combination is 2.0250000000000012 (d.o.f = 2)  with p value 0.1816547846795055\n"
     ]
    }
   ],
   "source": [
    "print('The systematic compoments of covariance matrix is :  MSys')\n",
    "display(Matrix(SYS2))\n",
    "M = STAT+SYS2\n",
    "combine_measurement(y, U42, M, stat=STAT, sys=SYS2)"
   ]
  },
  {
   "cell_type": "code",
   "execution_count": 50,
   "metadata": {
    "ExecuteTime": {
     "end_time": "2021-09-27T09:47:12.610333Z",
     "start_time": "2021-09-27T09:47:12.596001Z"
    },
    "deletable": false,
    "editable": false
   },
   "outputs": [
    {
     "name": "stdout",
     "output_type": "stream",
     "text": [
      "The weights:\n"
     ]
    },
    {
     "data": {
      "text/latex": [
       "$\\displaystyle \\left[\\begin{matrix}0.75\\\\0.0833333333333333\\\\0.0833333333333333\\\\0.0833333333333333\\end{matrix}\\right]$"
      ],
      "text/plain": [
       "Matrix([\n",
       "[              0.75],\n",
       "[0.0833333333333333],\n",
       "[0.0833333333333333],\n",
       "[0.0833333333333333]])"
      ]
     },
     "metadata": {},
     "output_type": "display_data"
    },
    {
     "name": "stdout",
     "output_type": "stream",
     "text": [
      "Measurement:0.10958333333333332+/-0.008660254037844387\n",
      "Measurement:0.10958333333333332+/-0.007909207011803114 +/-0.0035276684147527875\n",
      "Minimum chisqauare for the combination is 2.192129629629631 (d.o.f = 3)  with p value 0.19739142442639945\n"
     ]
    }
   ],
   "source": [
    "combine_measurement(y, U41, M, stat=STAT, sys=SYS2)"
   ]
  },
  {
   "cell_type": "markdown",
   "metadata": {
    "deletable": false,
    "editable": false
   },
   "source": [
    "* For  $\\mathcal{\\hat{B}}^{e}_{B}$ and $\\mathcal{\\hat{B}}^{\\tau}_{B}$ -100% scenario\n",
    "   *  ${B_{\\alpha}} =$ {$B^{e}, B^{\\tau}$} \n",
    "   *  ${B_{\\alpha}} =$ {$B^{\\ell}$} \n",
    "   "
   ]
  },
  {
   "cell_type": "code",
   "execution_count": 51,
   "metadata": {
    "ExecuteTime": {
     "end_time": "2021-09-27T09:47:12.792483Z",
     "start_time": "2021-09-27T09:47:12.719573Z"
    },
    "deletable": false,
    "editable": false
   },
   "outputs": [
    {
     "name": "stdout",
     "output_type": "stream",
     "text": [
      "The systematic compoments of covariance matrix is :  MSys\n"
     ]
    },
    {
     "data": {
      "text/latex": [
       "$\\displaystyle \\left[\\begin{matrix}0.0 & 0.0 & 0.0 & 0.0\\\\0.0 & 0.000896 & 0.0 & -0.000896\\\\0.0 & 0.0 & 0.0 & 0.0\\\\0.0 & -0.000896 & 0.0 & 0.000896\\end{matrix}\\right]$"
      ],
      "text/plain": [
       "Matrix([\n",
       "[0.0,       0.0, 0.0,       0.0],\n",
       "[0.0,  0.000896, 0.0, -0.000896],\n",
       "[0.0,       0.0, 0.0,       0.0],\n",
       "[0.0, -0.000896, 0.0,  0.000896]])"
      ]
     },
     "metadata": {},
     "output_type": "display_data"
    },
    {
     "name": "stdout",
     "output_type": "stream",
     "text": [
      "The weights:\n"
     ]
    },
    {
     "data": {
      "text/latex": [
       "$\\displaystyle \\left[\\begin{matrix}0.819491688595084 & 0.180508311404916 & -0.0898530261215584 & 0.089853026121558\\\\-0.808677235094026 & 0.808677235094026 & 0.0974584429754188 & 0.902541557024581\\end{matrix}\\right]$"
      ],
      "text/plain": [
       "Matrix([\n",
       "[ 0.819491688595084, 0.180508311404916, -0.0898530261215584, 0.089853026121558],\n",
       "[-0.808677235094026, 0.808677235094026,  0.0974584429754188, 0.902541557024581]])"
      ]
     },
     "metadata": {},
     "output_type": "display_data"
    },
    {
     "name": "stdout",
     "output_type": "stream",
     "text": [
      "Measurement: X = \n"
     ]
    },
    {
     "data": {
      "text/latex": [
       "$\\displaystyle \\left[\\begin{matrix}0.114458635517618\\\\0.159874687118927\\end{matrix}\\right]$"
      ],
      "text/plain": [
       "Matrix([\n",
       "[0.114458635517618],\n",
       "[0.159874687118927]])"
      ]
     },
     "metadata": {},
     "output_type": "display_data"
    },
    {
     "name": "stdout",
     "output_type": "stream",
     "text": [
      "\n",
      " Covariance matrix: E = \n"
     ]
    },
    {
     "data": {
      "text/latex": [
       "$\\displaystyle \\left[\\begin{matrix}8.19491688595084 \\cdot 10^{-5} & -8.08677235094026 \\cdot 10^{-5}\\\\-8.08677235094026 \\cdot 10^{-5} & 8.77125986778769 \\cdot 10^{-5}\\end{matrix}\\right]$"
      ],
      "text/plain": [
       "Matrix([\n",
       "[ 8.19491688595084e-5, -8.08677235094026e-5],\n",
       "[-8.08677235094026e-5,  8.77125986778769e-5]])"
      ]
     },
     "metadata": {},
     "output_type": "display_data"
    },
    {
     "name": "stdout",
     "output_type": "stream",
     "text": [
      "\n",
      " sqrt(Covariance matrix): sqrt{E}\n"
     ]
    },
    {
     "name": "stderr",
     "output_type": "stream",
     "text": [
      "/home/soumen/source/anaconda/lib/python3.7/site-packages/ipykernel_launcher.py:43: RuntimeWarning: invalid value encountered in sqrt\n"
     ]
    },
    {
     "data": {
      "text/latex": [
       "$\\displaystyle \\left[\\begin{matrix}0.00905257802283463 & \\text{NaN}\\\\\\text{NaN} & 0.0093655004499427\\end{matrix}\\right]$"
      ],
      "text/plain": [
       "Matrix([\n",
       "[0.00905257802283463,                nan],\n",
       "[                nan, 0.0093655004499427]])"
      ]
     },
     "metadata": {},
     "output_type": "display_data"
    },
    {
     "name": "stdout",
     "output_type": "stream",
     "text": [
      "\n",
      "\n",
      "\n",
      "\n",
      " Estat =  \n"
     ]
    },
    {
     "data": {
      "text/latex": [
       "$\\displaystyle \\left[\\begin{matrix}7.45854997076814 \\cdot 10^{-5} & -7.32433935026436 \\cdot 10^{-5}\\\\-7.32433935026436 \\cdot 10^{-5} & 7.98183808832681 \\cdot 10^{-5}\\end{matrix}\\right]$"
      ],
      "text/plain": [
       "Matrix([\n",
       "[ 7.45854997076814e-5, -7.32433935026436e-5],\n",
       "[-7.32433935026436e-5,  7.98183808832681e-5]])"
      ]
     },
     "metadata": {},
     "output_type": "display_data"
    },
    {
     "name": "stdout",
     "output_type": "stream",
     "text": [
      "\n",
      " sqrt(Estat) = \n"
     ]
    },
    {
     "name": "stderr",
     "output_type": "stream",
     "text": [
      "/home/soumen/source/anaconda/lib/python3.7/site-packages/ipykernel_launcher.py:57: RuntimeWarning: invalid value encountered in sqrt\n"
     ]
    },
    {
     "data": {
      "text/latex": [
       "$\\displaystyle \\left[\\begin{matrix}0.00863628969567843 & \\text{NaN}\\\\\\text{NaN} & 0.00893411332384295\\end{matrix}\\right]$"
      ],
      "text/plain": [
       "Matrix([\n",
       "[0.00863628969567843,                 nan],\n",
       "[                nan, 0.00893411332384295]])"
      ]
     },
     "metadata": {},
     "output_type": "display_data"
    },
    {
     "name": "stdout",
     "output_type": "stream",
     "text": [
      "\n",
      "\n",
      "\n",
      "\n",
      " Esys =  \n"
     ]
    },
    {
     "data": {
      "text/latex": [
       "$\\displaystyle \\left[\\begin{matrix}7.36366915182715 \\cdot 10^{-6} & -7.62433000675895 \\cdot 10^{-6}\\\\-7.62433000675896 \\cdot 10^{-6} & 7.89421779460871 \\cdot 10^{-6}\\end{matrix}\\right]$"
      ],
      "text/plain": [
       "Matrix([\n",
       "[ 7.36366915182715e-6, -7.62433000675895e-6],\n",
       "[-7.62433000675896e-6,  7.89421779460871e-6]])"
      ]
     },
     "metadata": {},
     "output_type": "display_data"
    },
    {
     "name": "stdout",
     "output_type": "stream",
     "text": [
      "\n",
      " sqrt(Esys) = \n"
     ]
    },
    {
     "name": "stderr",
     "output_type": "stream",
     "text": [
      "/home/soumen/source/anaconda/lib/python3.7/site-packages/ipykernel_launcher.py:65: RuntimeWarning: invalid value encountered in sqrt\n"
     ]
    },
    {
     "data": {
      "text/latex": [
       "$\\displaystyle \\left[\\begin{matrix}0.00271360814264461 & \\text{NaN}\\\\\\text{NaN} & 0.00280966506804792\\end{matrix}\\right]$"
      ],
      "text/plain": [
       "Matrix([\n",
       "[0.00271360814264461,                 nan],\n",
       "[                nan, 0.00280966506804792]])"
      ]
     },
     "metadata": {},
     "output_type": "display_data"
    },
    {
     "name": "stdout",
     "output_type": "stream",
     "text": [
      "\n",
      "\n",
      "\n",
      "Minimum chisqauare for the combination is 6.081325011231629 (d.o.f = 2)  with p value 0.02390160455332634\n"
     ]
    }
   ],
   "source": [
    "print('The systematic compoments of covariance matrix is :  MSys')\n",
    "display(Matrix(SYS3))\n",
    "M = STAT+SYS3\n",
    "combine_measurement(y, U42, M, stat=STAT, sys=SYS3)"
   ]
  },
  {
   "cell_type": "code",
   "execution_count": 52,
   "metadata": {
    "ExecuteTime": {
     "end_time": "2021-09-27T09:47:12.812638Z",
     "start_time": "2021-09-27T09:47:12.797076Z"
    },
    "deletable": false,
    "editable": false
   },
   "outputs": [
    {
     "name": "stdout",
     "output_type": "stream",
     "text": [
      "The weights:\n"
     ]
    },
    {
     "data": {
      "text/latex": [
       "$\\displaystyle \\left[\\begin{matrix}0.0195652173913041\\\\0.489130434782609\\\\0.00217391304347824\\\\0.489130434782609\\end{matrix}\\right]$"
      ],
      "text/plain": [
       "Matrix([\n",
       "[ 0.0195652173913041],\n",
       "[  0.489130434782609],\n",
       "[0.00217391304347824],\n",
       "[  0.489130434782609]])"
      ]
     },
     "metadata": {},
     "output_type": "display_data"
    },
    {
     "name": "stdout",
     "output_type": "stream",
     "text": [
      "Measurement:0.13677173913043478+/-0.0013987572123604632\n",
      "Measurement:0.13677173913043478+/-0.0013987572123604708 +/-0.0\n",
      "Minimum chisqauare for the combination is 12.305329476130543 (d.o.f = 3)  with p value 0.002977750761029625\n"
     ]
    }
   ],
   "source": [
    "combine_measurement(y, U41, M, stat=STAT, sys=SYS3)"
   ]
  },
  {
   "cell_type": "markdown",
   "metadata": {
    "deletable": false,
    "editable": false
   },
   "source": [
    "* Under the assumption systematic uncertainty is zero,\n",
    "   *  ${B_{\\alpha}} =$ {$B^{e}, B^{\\tau}$} \n",
    "   *  ${B_{\\alpha}} =$ {$B^{\\ell}$} \n"
   ]
  },
  {
   "cell_type": "code",
   "execution_count": 53,
   "metadata": {
    "ExecuteTime": {
     "end_time": "2021-09-27T09:47:12.973379Z",
     "start_time": "2021-09-27T09:47:12.902598Z"
    },
    "deletable": false,
    "editable": false
   },
   "outputs": [
    {
     "name": "stdout",
     "output_type": "stream",
     "text": [
      "The statistical compoments of covariance matrix is :  MStat\n"
     ]
    },
    {
     "data": {
      "text/latex": [
       "$\\displaystyle \\left[\\begin{matrix}0.0001 & 0.0 & 0.0 & 0.0\\\\0.0 & 4.41 \\cdot 10^{-6} & 0.0 & 0.0\\\\0.0 & 0.0 & 0.0009 & 0.0\\\\0.0 & 0.0 & 0.0 & 4.41 \\cdot 10^{-6}\\end{matrix}\\right]$"
      ],
      "text/plain": [
       "Matrix([\n",
       "[0.0001,     0.0,    0.0,     0.0],\n",
       "[   0.0, 4.41e-6,    0.0,     0.0],\n",
       "[   0.0,     0.0, 0.0009,     0.0],\n",
       "[   0.0,     0.0,    0.0, 4.41e-6]])"
      ]
     },
     "metadata": {},
     "output_type": "display_data"
    },
    {
     "name": "stdout",
     "output_type": "stream",
     "text": [
      "The weights:\n"
     ]
    },
    {
     "data": {
      "text/latex": [
       "$\\displaystyle \\left[\\begin{matrix}0.0422373335887367 & 0.957762666411263 & 0.0 & 0.0\\\\0.0 & 0.0 & 0.00487610707533088 & 0.995123892924669\\end{matrix}\\right]$"
      ],
      "text/plain": [
       "Matrix([\n",
       "[0.0422373335887367, 0.957762666411263,                 0.0,               0.0],\n",
       "[               0.0,               0.0, 0.00487610707533088, 0.995123892924669]])"
      ]
     },
     "metadata": {},
     "output_type": "display_data"
    },
    {
     "name": "stdout",
     "output_type": "stream",
     "text": [
      "Measurement: X = \n"
     ]
    },
    {
     "data": {
      "text/latex": [
       "$\\displaystyle \\left[\\begin{matrix}0.133732879992338\\\\0.13978057518161\\end{matrix}\\right]$"
      ],
      "text/plain": [
       "Matrix([\n",
       "[0.133732879992338],\n",
       "[ 0.13978057518161]])"
      ]
     },
     "metadata": {},
     "output_type": "display_data"
    },
    {
     "name": "stdout",
     "output_type": "stream",
     "text": [
      "\n",
      " Covariance matrix: E = \n"
     ]
    },
    {
     "data": {
      "text/latex": [
       "$\\displaystyle \\left[\\begin{matrix}4.22373335887367 \\cdot 10^{-6} & 0.0\\\\0.0 & 4.38849636779779 \\cdot 10^{-6}\\end{matrix}\\right]$"
      ],
      "text/plain": [
       "Matrix([\n",
       "[4.22373335887367e-6,                 0.0],\n",
       "[                0.0, 4.38849636779779e-6]])"
      ]
     },
     "metadata": {},
     "output_type": "display_data"
    },
    {
     "name": "stdout",
     "output_type": "stream",
     "text": [
      "\n",
      " sqrt(Covariance matrix): sqrt{E}\n"
     ]
    },
    {
     "data": {
      "text/latex": [
       "$\\displaystyle \\left[\\begin{matrix}0.00205517234286414 & 0.0\\\\0.0 & 0.00209487383099742\\end{matrix}\\right]$"
      ],
      "text/plain": [
       "Matrix([\n",
       "[0.00205517234286414,                 0.0],\n",
       "[                0.0, 0.00209487383099742]])"
      ]
     },
     "metadata": {},
     "output_type": "display_data"
    },
    {
     "name": "stdout",
     "output_type": "stream",
     "text": [
      "\n",
      "\n",
      "\n",
      "\n",
      " Estat =  \n"
     ]
    },
    {
     "data": {
      "text/latex": [
       "$\\displaystyle \\left[\\begin{matrix}4.22373335887367 \\cdot 10^{-6} & 0.0\\\\0.0 & 4.38849636779779 \\cdot 10^{-6}\\end{matrix}\\right]$"
      ],
      "text/plain": [
       "Matrix([\n",
       "[4.22373335887367e-6,                 0.0],\n",
       "[                0.0, 4.38849636779779e-6]])"
      ]
     },
     "metadata": {},
     "output_type": "display_data"
    },
    {
     "name": "stdout",
     "output_type": "stream",
     "text": [
      "\n",
      " sqrt(Estat) = \n"
     ]
    },
    {
     "data": {
      "text/latex": [
       "$\\displaystyle \\left[\\begin{matrix}0.00205517234286414 & 0.0\\\\0.0 & 0.00209487383099742\\end{matrix}\\right]$"
      ],
      "text/plain": [
       "Matrix([\n",
       "[0.00205517234286414,                 0.0],\n",
       "[                0.0, 0.00209487383099742]])"
      ]
     },
     "metadata": {},
     "output_type": "display_data"
    },
    {
     "name": "stdout",
     "output_type": "stream",
     "text": [
      "\n",
      "\n",
      "\n",
      "\n",
      " Esys =  \n"
     ]
    },
    {
     "data": {
      "text/latex": [
       "$\\displaystyle \\left[\\begin{matrix}0.0 & 0.0\\\\0.0 & 0.0\\end{matrix}\\right]$"
      ],
      "text/plain": [
       "Matrix([\n",
       "[0.0, 0.0],\n",
       "[0.0, 0.0]])"
      ]
     },
     "metadata": {},
     "output_type": "display_data"
    },
    {
     "name": "stdout",
     "output_type": "stream",
     "text": [
      "\n",
      " sqrt(Esys) = \n"
     ]
    },
    {
     "data": {
      "text/latex": [
       "$\\displaystyle \\left[\\begin{matrix}0.0 & 0.0\\\\0.0 & 0.0\\end{matrix}\\right]$"
      ],
      "text/plain": [
       "Matrix([\n",
       "[0.0, 0.0],\n",
       "[0.0, 0.0]])"
      ]
     },
     "metadata": {},
     "output_type": "display_data"
    },
    {
     "name": "stdout",
     "output_type": "stream",
     "text": [
      "\n",
      "\n",
      "\n",
      "Minimum chisqauare for the combination is 10.858892756781882 (d.o.f = 2)  with p value 0.0021927615255231438\n"
     ]
    }
   ],
   "source": [
    "STAT0 = 1e-4*np.array([[1,0, 0, 0], [0, 0.0441,0,0],[0,0,9,0],[0,0,0,0.0441]])\n",
    "print('The statistical compoments of covariance matrix is :  MStat')\n",
    "display(Matrix(STAT0))\n",
    "M = STAT0+SYS0\n",
    "combine_measurement(y, U42, M, stat=STAT0, sys=SYS0)"
   ]
  },
  {
   "cell_type": "code",
   "execution_count": 54,
   "metadata": {
    "ExecuteTime": {
     "end_time": "2021-09-27T09:47:12.992364Z",
     "start_time": "2021-09-27T09:47:12.976707Z"
    },
    "deletable": false,
    "editable": false
   },
   "outputs": [
    {
     "name": "stdout",
     "output_type": "stream",
     "text": [
      "The weights:\n"
     ]
    },
    {
     "data": {
      "text/latex": [
       "$\\displaystyle \\left[\\begin{matrix}0.0215226939970717\\\\0.488042947779405\\\\0.00239141044411908\\\\0.488042947779405\\end{matrix}\\right]$"
      ],
      "text/plain": [
       "Matrix([\n",
       "[ 0.0215226939970717],\n",
       "[  0.488042947779405],\n",
       "[0.00239141044411908],\n",
       "[  0.488042947779405]])"
      ]
     },
     "metadata": {},
     "output_type": "display_data"
    },
    {
     "name": "stdout",
     "output_type": "stream",
     "text": [
      "Measurement:0.13669887750122012+/-0.0014670614846376325\n",
      "Measurement:0.13669887750122012+/-0.0014670614846376325 +/-0.0\n",
      "Minimum chisqauare for the combination is 15.105715967857792 (d.o.f = 3)  with p value 0.0008134224940035461\n"
     ]
    }
   ],
   "source": [
    "combine_measurement(y, U41, M, stat=STAT0, sys=SYS0)"
   ]
  },
  {
   "cell_type": "markdown",
   "metadata": {
    "deletable": false,
    "editable": false
   },
   "source": [
    "# Negetive weights and interpretation"
   ]
  },
  {
   "cell_type": "markdown",
   "metadata": {
    "deletable": false,
    "editable": false
   },
   "source": [
    "You might have been noticed some of the weights are negetive. This cannot be interpreted properly. We have to take special treatment for those cases. The references below shows proper guide map.\n",
    "\n",
    "* Valassi, A., Chierici, R.: Information and treatment of unknown correlations in the combination of measurements using the BLUE method. Eur. Phys. J. C 74, 2717 (2014)\n",
    "* Lista, L.: The bias of the unbiased estimator: a study of the iterative application of the BLUE method. Nucl. Inst. Methods A764, 82–93 (2014) and corr. ibid. A773, 87–96 (2015)\n",
    "\n",
    "Moreover there are efforts to include these algorithm to ROOT framework. [Here](https://blue.hepforge.org/) is the link of th webpage. "
   ]
  },
  {
   "cell_type": "code",
   "execution_count": null,
   "metadata": {
    "deletable": false,
    "editable": false
   },
   "outputs": [],
   "source": []
  }
 ],
 "metadata": {
  "hide_input": true,
  "kernelspec": {
   "display_name": "Python 3",
   "language": "python",
   "name": "python3"
  },
  "language_info": {
   "codemirror_mode": {
    "name": "ipython",
    "version": 3
   },
   "file_extension": ".py",
   "mimetype": "text/x-python",
   "name": "python",
   "nbconvert_exporter": "python",
   "pygments_lexer": "ipython3",
   "version": "3.7.6"
  },
  "latex_envs": {
   "LaTeX_envs_menu_present": true,
   "autoclose": false,
   "autocomplete": true,
   "bibliofile": "biblio.bib",
   "cite_by": "apalike",
   "current_citInitial": 1,
   "eqLabelWithNumbers": true,
   "eqNumInitial": 1,
   "hotkeys": {
    "equation": "Ctrl-E",
    "itemize": "Ctrl-I"
   },
   "labels_anchors": false,
   "latex_user_defs": false,
   "report_style_numbering": false,
   "user_envs_cfg": false
  },
  "toc": {
   "base_numbering": 1,
   "nav_menu": {},
   "number_sections": true,
   "sideBar": true,
   "skip_h1_title": false,
   "title_cell": "Table of Contents",
   "title_sidebar": "Contents",
   "toc_cell": false,
   "toc_position": {
    "height": "calc(100% - 180px)",
    "left": "10px",
    "top": "150px",
    "width": "378px"
   },
   "toc_section_display": true,
   "toc_window_display": true
  }
 },
 "nbformat": 4,
 "nbformat_minor": 4
}
